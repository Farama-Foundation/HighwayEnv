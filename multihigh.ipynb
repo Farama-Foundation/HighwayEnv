{
 "cells": [
  {
   "cell_type": "code",
   "execution_count": 1,
   "metadata": {},
   "outputs": [
    {
     "ename": "ModuleNotFoundError",
     "evalue": "No module named 'gym'",
     "output_type": "error",
     "traceback": [
      "\u001b[0;31m---------------------------------------------------------------------------\u001b[0m",
      "\u001b[0;31mModuleNotFoundError\u001b[0m                       Traceback (most recent call last)",
      "\u001b[0;32m<ipython-input-1-0735b919235f>\u001b[0m in \u001b[0;36m<module>\u001b[0;34m\u001b[0m\n\u001b[0;32m----> 1\u001b[0;31m \u001b[0;32mimport\u001b[0m \u001b[0mgym\u001b[0m\u001b[0;34m\u001b[0m\u001b[0;34m\u001b[0m\u001b[0m\n\u001b[0m\u001b[1;32m      2\u001b[0m \u001b[0;32mimport\u001b[0m \u001b[0mhighway_env\u001b[0m\u001b[0;34m\u001b[0m\u001b[0;34m\u001b[0m\u001b[0m\n\u001b[1;32m      3\u001b[0m \u001b[0;34m\u001b[0m\u001b[0m\n\u001b[1;32m      4\u001b[0m \u001b[0;34m\u001b[0m\u001b[0m\n\u001b[1;32m      5\u001b[0m \u001b[0;32mfrom\u001b[0m \u001b[0mrl_agents\u001b[0m\u001b[0;34m.\u001b[0m\u001b[0magents\u001b[0m\u001b[0;34m.\u001b[0m\u001b[0mcommon\u001b[0m\u001b[0;34m.\u001b[0m\u001b[0mfactory\u001b[0m \u001b[0;32mimport\u001b[0m \u001b[0magent_factory\u001b[0m\u001b[0;34m\u001b[0m\u001b[0;34m\u001b[0m\u001b[0m\n",
      "\u001b[0;31mModuleNotFoundError\u001b[0m: No module named 'gym'"
     ]
    }
   ],
   "source": [
    "import gym\n",
    "import highway_env\n",
    "\n",
    "\n",
    "from rl_agents.agents.common.factory import agent_factory\n",
    "from matplotlib import pyplot as plt\n",
    "\n",
    "# Visualisation\n",
    "import sys\n",
    "from tqdm.notebook import trange\n",
    "sys.path.insert(0, './marl/highway-env/scripts/')\n",
    "from rl_agents.agents.common.factory import agent_factory\n",
    "from tqdm.notebook import trange\n",
    "\n",
    "# from utils import record_videos, show_videos, capture_intermediate_frames\n",
    "import pprint\n",
    "# Make environment\n",
    "env = gym.make(\"highway-v0\")\n",
    "# # env=gym.make(\"intersection-multi-agent-v0\")\n",
    "# env = gym.make('highway-multi-agent-v0')"
   ]
  },
  {
   "cell_type": "code",
   "execution_count": 5,
   "metadata": {},
   "outputs": [
    {
     "name": "stderr",
     "output_type": "stream",
     "text": [
      "/home/arjun/.local/lib/python3.8/site-packages/torch/cuda/__init__.py:52: UserWarning: CUDA initialization: The NVIDIA driver on your system is too old (found version 10010). Please update your GPU driver by downloading and installing a new version from the URL: http://www.nvidia.com/Download/index.aspx Alternatively, go to: https://pytorch.org to install a PyTorch version that has been compiled with your version of the CUDA driver. (Triggered internally at  /pytorch/c10/cuda/CUDAFunctions.cpp:100.)\n",
      "  return torch._C._cuda_getDeviceCount() > 0\n",
      "Preferred device cuda:best unavailable, switching to default cpu\n"
     ]
    }
   ],
   "source": [
    "# Instead of this we can add stable baselines as a \"model\" and train the model.\n",
    "agent_config = {\n",
    "    \"__class__\": \"<class 'rl_agents.agents.deep_q_network.pytorch.DQNAgent'>\",\n",
    "    \"model\": {\n",
    "        \"type\": \"MultiLayerPerceptron\", # CNN, EgoAttentionModel, etc etc..\n",
    "        \"layers\": [256, 256]\n",
    "    },\n",
    "    # \"double\": False,\n",
    "    \"gamma\": 0.85, #0.8 Discount factor\n",
    "    \"n_steps\": 1, # If n_steps is greater than one, the batch will be composed of lists of successive transitions.\n",
    "    \"batch_size\": 32, #32 Sample a batch of transitions\n",
    "    \"memory_capacity\": 15000, # Used in replay memory default-10000, file had 15000\n",
    "    \"target_update\": 50,\n",
    "    \"exploration\": {\n",
    "        \"method\": \"EpsilonGreedy\",\n",
    "        \"tau\": 6000,\n",
    "        \"temperature\": 1.0,\n",
    "        \"final_temperature\": 0.05\n",
    "    },\n",
    "    \"loss_function\": \"l2\"\n",
    "}\n",
    "agent = agent_factory(env, agent_config)"
   ]
  },
  {
   "cell_type": "code",
   "execution_count": 6,
   "metadata": {},
   "outputs": [
    {
     "name": "stdout",
     "output_type": "stream",
     "text": [
      "{'action': {'type': 'DiscreteMetaAction'},\n",
      " 'centering_position': [0.3, 0.5],\n",
      " 'collision_reward': -1,\n",
      " 'controlled_vehicles': 1,\n",
      " 'duration': 40,\n",
      " 'initial_spacing': 2,\n",
      " 'initial_vehicle_count': 10,\n",
      " 'lanes_count': 4,\n",
      " 'manual_control': False,\n",
      " 'observation': {'type': 'Kinematics'},\n",
      " 'offroad_terminal': False,\n",
      " 'offscreen_rendering': False,\n",
      " 'other_vehicles_type': 'highway_env.vehicle.behavior.IDMVehicle',\n",
      " 'policy_frequency': 1,\n",
      " 'render_agent': True,\n",
      " 'scaling': 5.5,\n",
      " 'screen_height': 150,\n",
      " 'screen_width': 600,\n",
      " 'show_trajectories': False,\n",
      " 'simulation_frequency': 15,\n",
      " 'vehicles_count': 50}\n"
     ]
    }
   ],
   "source": [
    "pprint.pprint(env.config)\n"
   ]
  },
  {
   "cell_type": "code",
   "execution_count": 7,
   "metadata": {},
   "outputs": [],
   "source": [
    "obs, done = env.reset(), False\n"
   ]
  },
  {
   "cell_type": "code",
   "execution_count": 8,
   "metadata": {},
   "outputs": [
    {
     "name": "stdout",
     "output_type": "stream",
     "text": [
      "[[ 1.          1.          0.          0.41666667  0.        ]\n",
      " [ 1.          0.1108189   0.5        -0.02738938  0.        ]\n",
      " [ 1.          0.22248853  0.75       -0.01696376  0.        ]\n",
      " [ 1.          0.3567996   0.75       -0.00531859  0.        ]\n",
      " [ 1.          0.49024274  0.5        -0.01054615  0.        ]]\n"
     ]
    }
   ],
   "source": [
    "print(obs)"
   ]
  },
  {
   "cell_type": "code",
   "execution_count": 9,
   "metadata": {},
   "outputs": [],
   "source": [
    " action = agent.act(obs)"
   ]
  },
  {
   "cell_type": "code",
   "execution_count": 10,
   "metadata": {},
   "outputs": [
    {
     "data": {
      "text/plain": [
       "numpy.int64"
      ]
     },
     "execution_count": 10,
     "metadata": {},
     "output_type": "execute_result"
    }
   ],
   "source": [
    "type(action)"
   ]
  },
  {
   "cell_type": "code",
   "execution_count": 11,
   "metadata": {},
   "outputs": [
    {
     "data": {
      "text/plain": [
       "0"
      ]
     },
     "execution_count": 11,
     "metadata": {},
     "output_type": "execute_result"
    }
   ],
   "source": [
    "action"
   ]
  },
  {
   "cell_type": "code",
   "execution_count": null,
   "metadata": {},
   "outputs": [],
   "source": [
    "env.step(action)"
   ]
  },
  {
   "cell_type": "code",
   "execution_count": null,
   "metadata": {},
   "outputs": [],
   "source": [
    "env = gym.make(\"highway-v0\")\n",
    "\n",
    "# env.configure({\n",
    "#     \"controlled_vehicles\": 2,\n",
    "#     \"action\": {\n",
    "#         \"type\": \"MultiAgentAction\",\n",
    "#         \"action_config\": {\n",
    "# #             \"type\": \"DiscreteMetaAction\"\n",
    "#             # \"type\": \"ContinuousAction\"\n",
    "#         }\n",
    "#     },\n",
    "#     \"observation\": {\n",
    "#         \"type\": \"MultiAgentObservation\",\n",
    "#         \"observation_config\": {\n",
    "#             \"type\": \"Kinematics\"\n",
    "#         }\n",
    "#     },\n",
    "#     'screen_height': 150,\n",
    "#     'screen_width': 300\n",
    "#     ,\"vehicles_count\": 10\n",
    "\n",
    "#     ,'lanes_count': 4 \n",
    "#     # ,\"absolute\" : True,\n",
    "#     # 'duration': 50,\n",
    "# })\n",
    "\n",
    "\n",
    "\n",
    "env.configure({ \"action\": { \"type\": \"MultiAgentAction\", \"action_config\": { \"type\": \"ContinuousAction\" } }, \"controlled_vehicles\": 2, \"vehicles_count\": 0, \"absolute\" : True })"
   ]
  },
  {
   "cell_type": "code",
   "execution_count": null,
   "metadata": {},
   "outputs": [],
   "source": [
    "print(env.action_space)\n"
   ]
  },
  {
   "cell_type": "code",
   "execution_count": null,
   "metadata": {},
   "outputs": [],
   "source": [
    "print(env.observation_space)"
   ]
  },
  {
   "cell_type": "code",
   "execution_count": null,
   "metadata": {},
   "outputs": [],
   "source": [
    "obs, done = env.reset(), False\n",
    "action = agent.act(obs)"
   ]
  },
  {
   "cell_type": "code",
   "execution_count": null,
   "metadata": {},
   "outputs": [],
   "source": [
    "obs"
   ]
  },
  {
   "cell_type": "code",
   "execution_count": null,
   "metadata": {},
   "outputs": [],
   "source": [
    "action"
   ]
  },
  {
   "cell_type": "code",
   "execution_count": null,
   "metadata": {},
   "outputs": [],
   "source": []
  }
 ],
 "metadata": {
  "kernelspec": {
   "display_name": "Python 3",
   "language": "python",
   "name": "python3"
  },
  "language_info": {
   "codemirror_mode": {
    "name": "ipython",
    "version": 3
   },
   "file_extension": ".py",
   "mimetype": "text/x-python",
   "name": "python",
   "nbconvert_exporter": "python",
   "pygments_lexer": "ipython3",
   "version": "3.6.12"
  }
 },
 "nbformat": 4,
 "nbformat_minor": 4
}
